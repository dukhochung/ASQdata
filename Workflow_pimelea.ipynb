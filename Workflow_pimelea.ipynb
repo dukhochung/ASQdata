{
  "nbformat": 4,
  "nbformat_minor": 0,
  "metadata": {
    "colab": {
      "name": "Workflow_pimelea.ipynb",
      "version": "0.3.2",
      "provenance": [],
      "include_colab_link": true
    },
    "kernelspec": {
      "name": "python3",
      "display_name": "Python 3"
    }
  },
  "cells": [
    {
      "cell_type": "markdown",
      "metadata": {
        "id": "view-in-github",
        "colab_type": "text"
      },
      "source": [
        "[View in Colaboratory](https://colab.research.google.com/github/dukhochung/ASQdata/blob/master/Workflow_pimelea.ipynb)"
      ]
    },
    {
      "metadata": {
        "id": "E5aLuZKLcTlg",
        "colab_type": "code",
        "colab": {
          "resources": {
            "http://localhost:8080/nbextensions/google.colab/files.js": {
              "data": "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",
              "ok": true,
              "headers": [
                [
                  "content-type",
                  "application/javascript"
                ]
              ],
              "status": 200,
              "status_text": ""
            }
          },
          "base_uri": "https://localhost:8080/",
          "height": 72
        },
        "outputId": "10f9eb2d-98cc-418a-c54c-e1b1b6db708d"
      },
      "cell_type": "code",
      "source": [
        "  # upload to cloud\n",
        "from google.colab import files\n",
        "uploaded = files.upload()"
      ],
      "execution_count": 4,
      "outputs": [
        {
          "output_type": "display_data",
          "data": {
            "text/html": [
              "\n",
              "     <input type=\"file\" id=\"files-53197206-9b9c-49c7-a5ca-417658452bc4\" name=\"files[]\" multiple disabled />\n",
              "     <output id=\"result-53197206-9b9c-49c7-a5ca-417658452bc4\">\n",
              "      Upload widget is only available when the cell has been executed in the\n",
              "      current browser session. Please rerun this cell to enable.\n",
              "      </output>\n",
              "      <script src=\"/nbextensions/google.colab/files.js\"></script> "
            ],
            "text/plain": [
              "<IPython.core.display.HTML object>"
            ]
          },
          "metadata": {
            "tags": []
          }
        },
        {
          "output_type": "stream",
          "text": [
            "Saving observation_counts(clinical_signs).jpg to observation_counts(clinical_signs).jpg\n"
          ],
          "name": "stdout"
        }
      ]
    },
    {
      "metadata": {
        "id": "bKJj8A0hxafA",
        "colab_type": "code",
        "colab": {}
      },
      "cell_type": "code",
      "source": [
        "#load image into notebook\n",
        "from IPython.display import Image\n",
        "Image(filename='observation_counts(clinical_signs).JPG')"
      ],
      "execution_count": 0,
      "outputs": []
    },
    {
      "metadata": {
        "id": "gdJO3PGrjzqs",
        "colab_type": "text"
      },
      "cell_type": "markdown",
      "source": [
        "# Qiime1\n"
      ]
    },
    {
      "metadata": {
        "id": "QIpho-bgZBB0",
        "colab_type": "text"
      },
      "cell_type": "markdown",
      "source": [
        "##### work directory\n"
      ]
    },
    {
      "metadata": {
        "id": "s08r8ejXZHjJ",
        "colab_type": "text"
      },
      "cell_type": "markdown",
      "source": [
        "/30days/s4468358/projects/pimelea/job_submissions/q1_ASQ_SplitThreshold29_withCoreDivAnalysis.101733/modify_otu_table"
      ]
    },
    {
      "metadata": {
        "id": "bgSS_wzZ36H9",
        "colab_type": "text"
      },
      "cell_type": "markdown",
      "source": [
        "## Main OTU table with chimeric sequences/singletons removed:\n",
        "- otu_table_nochimera.biom"
      ]
    },
    {
      "metadata": {
        "id": "ZJ4olN-CxLQw",
        "colab_type": "text"
      },
      "cell_type": "markdown",
      "source": [
        "##### biom summarize-table -i otu_table_nochimera.biom\n",
        "- Sample Counts of main OTU table (with chimeric sequences removed):\n",
        "\n",
        "##### biom summarize-table -i otu_table_nochimera.biom --qualitative\n",
        "- checked read counts with '--qualitative' parameter,\n",
        "\n",
        "- \"  --qualitative: Present counts as number of unique observation ids per sample, rather than counts of observations per sample.\"\n",
        "  - higher observations/sample -> has more of the less abundant otus "
      ]
    },
    {
      "metadata": {
        "id": "uqJpgSYYUfbz",
        "colab_type": "text"
      },
      "cell_type": "markdown",
      "source": [
        "<style type=\"text/css\">\n",
        ".tg  {border-collapse:collapse;border-spacing:0;}\n",
        ".tg td{font-family:Arial, sans-serif;font-size:14px;padding:10px 5px;border-style:solid;border-width:1px;overflow:hidden;word-break:normal;border-color:black;}\n",
        ".tg th{font-family:Arial, sans-serif;font-size:14px;font-weight:normal;padding:10px 5px;border-style:solid;border-width:1px;overflow:hidden;word-break:normal;border-color:black;}\n",
        ".tg .tg-us36{border-color:inherit;vertical-align:top}\n",
        "</style>\n",
        "<table class=\"tg\">\n",
        "  <tr>\n",
        "    <th class=\"tg-us36\">counts of observations</th>\n",
        "    <th class=\"tg-us36\">number of unique observation ids per sample</th>\n",
        "  </tr>\n",
        "  <tr>\n",
        "    <td class=\"tg-us36\">Num samples: 17<br>Num observations: 72,840<br>Total count: 1,189,722<br>Table density (fraction of non-zero values): 0.196<br><br><br>Counts/sample summary:<br> Min: 53,385.000<br> Max: 102,700.000<br> Median: 70,205.000<br> Mean: 69,983.647<br> Std. dev.: 12,244.760<br> Sample Metadata Categories: None provided<br> Observation Metadata Categories: taxonomy<br><br><br>Counts/sample detail:<br>yam-239-8-6: 53,385.000<br>AJM-239-3-3: 53,852.000<br>yam-239-8-3: 55,552.000<br>AJM-239-3-1: 58,631.000<br>yam-239-8-4: 60,391.000<br>yam-239-8-2: 60,577.000<br>AJM-239-3-4: 67,456.000<br>yam-239-9-10: 69,567.000<br>yam-239-8-5: 70,205.000<br>yam-239-9-7: 72,477.000<br>yam-239-9-11: 73,311.000<br>AJM-239-3-2: 74,221.000<br>yam-239-9-12: 75,676.000<br>yam-239-9-8: 78,841.000<br>yam-239-9-9: 79,214.000<br>yam-239-8-1: 83,666.000<br>AJM-239-3-5: 102,700.000<br></td>\n",
        "    <td class=\"tg-us36\">Num samples: 17<br>Num observations: 72,840<br><br><br>Observations/sample summary:<br>  Min: 11,137.000<br>  Max: 19,731.000<br>  Median: 14,157.000<br>  Mean: 14,272.941<br>  Std. dev.: 2,083.598<br>  Sample Metadata Categories: None provided<br>  Observation Metadata Categories: taxonomy<br><br>  <br>Observations/sample detail:<br>  yam-239-8-3: 11,137.000<br>  yam-239-8-6: 11,737.000<br>  yam-239-9-10: 11,956.000<br>  yam-239-9-8: 12,282.000<br>  AJM-239-3-3: 12,817.000<br>  yam-239-8-2: 13,626.000<br>  yam-239-8-4: 13,743.000<br>  AJM-239-3-1: 14,032.000<br>  yam-239-9-9: 14,157.000<br>  yam-239-9-7: 14,188.000<br>  yam-239-9-12: 14,567.000<br>  yam-239-8-5: 14,625.000<br>  AJM-239-3-4: 14,997.000<br>  yam-239-9-11: 15,267.000<br>  AJM-239-3-2: 16,657.000<br>  yam-239-8-1: 17,121.000<br>  AJM-239-3-5: 19,731.000</td>\n",
        "  </tr>\n",
        "</table>"
      ]
    },
    {
      "metadata": {
        "id": "bjwhJL8fIe1P",
        "colab_type": "text"
      },
      "cell_type": "markdown",
      "source": [
        "## rarefy (subsample) to the minimum read depth to unify read depth to the same depth number."
      ]
    },
    {
      "metadata": {
        "id": "34xCt5n74V8u",
        "colab_type": "text"
      },
      "cell_type": "markdown",
      "source": [
        "### Rarefaction using the minimum sequence depth"
      ]
    },
    {
      "metadata": {
        "id": "wgFjdcKJIxeg",
        "colab_type": "text"
      },
      "cell_type": "markdown",
      "source": [
        "#####single_rarefaction.py -i otu_table_nochimera.biom -o otu_table_even53385.biom -d 53385\n",
        "- outputs rarefied biom file"
      ]
    },
    {
      "metadata": {
        "id": "R3Aiqt7dXenz",
        "colab_type": "text"
      },
      "cell_type": "markdown",
      "source": [
        "### See summarize table information on the rarefied data"
      ]
    },
    {
      "metadata": {
        "id": "z-WH2XIeIzSA",
        "colab_type": "text"
      },
      "cell_type": "markdown",
      "source": [
        "#####biom summarize-table -i otu_table_even53385.biom\n",
        "- view summary info of the rarefied biom file\n",
        "\n",
        "##### biom summarize-table -i otu_table_even53385.biom --qualitative\n",
        "- checked read counts with '--qualitative' parameter,\n",
        "\n",
        "\n",
        "- \"  --qualitative: Present counts as number of unique observation ids per sample, rather than counts of observations per sample.\"\n",
        "  - higher observations/sample -> has more of the less abundant otus "
      ]
    },
    {
      "metadata": {
        "id": "Rooeq5ZsLw6f",
        "colab_type": "text"
      },
      "cell_type": "markdown",
      "source": [
        "<style type=\"text/css\">\n",
        ".tg  {border-collapse:collapse;border-spacing:0;}\n",
        ".tg td{font-family:Arial, sans-serif;font-size:14px;padding:10px 5px;border-style:solid;border-width:1px;overflow:hidden;word-break:normal;border-color:black;}\n",
        ".tg th{font-family:Arial, sans-serif;font-size:14px;font-weight:normal;padding:10px 5px;border-style:solid;border-width:1px;overflow:hidden;word-break:normal;border-color:black;}\n",
        ".tg .tg-us36{border-color:inherit;vertical-align:top}\n",
        "</style>\n",
        "<table class=\"tg\">\n",
        "  <tr>\n",
        "    <th class=\"tg-us36\">counts of observations</th>\n",
        "    <th class=\"tg-us36\">number of unique observation ids per sample</th>\n",
        "  </tr>\n",
        "  <tr>\n",
        "    <td class=\"tg-us36\">Num samples: 17<br>Num observations: 70,636<br>Total count: 907,545<br>Table density (fraction of non-zero values): 0.171<br><br><br>Counts/sample summary:<br> Min: 53,385.000<br> Max: 53,385.000<br> Median: 53,385.000<br> Mean: 53,385.000<br> Std. dev.: 0.000<br> Sample Metadata Categories: None provided<br> Observation Metadata Categories: taxonomy<br><br><br>Counts/sample detail:<br>AJM-239-3-4: 53,385.000<br>yam-239-9-7: 53,385.000<br>yam-239-9-8: 53,385.000<br>yam-239-9-9: 53,385.000<br>AJM-239-3-3: 53,385.000<br>yam-239-8-3: 53,385.000<br>yam-239-9-12: 53,385.000<br>yam-239-9-10: 53,385.000<br>yam-239-9-11: 53,385.000<br>yam-239-8-1: 53,385.000<br>AJM-239-3-2: 53,385.000<br>AJM-239-3-1: 53,385.000<br>yam-239-8-2: 53,385.000<br>yam-239-8-5: 53,385.000<br>yam-239-8-4: 53,385.000<br>AJM-239-3-5: 53,385.000<br>yam-239-8-6: 53,385.000<br></td>\n",
        "    <td class=\"tg-us36\">Num samples: 17<br>Num observations: 70,636<br><br><br>Observations/sample summary:<br> Min: 9,618.000<br> Max: 13,609.000<br> Median: 12,502.000<br> Mean: 12,090.176<br> Std. dev.: 1,074.085<br> Sample Metadata Categories: None provided<br> Observation Metadata Categories: taxonomy<br><br><br>Observations/sample detail:<br>yam-239-9-8: 9,618.000<br>yam-239-9-10: 10,218.000<br>yam-239-8-3: 10,896.000<br>yam-239-9-9: 11,208.000<br>yam-239-9-12: 11,613.000<br>yam-239-9-7: 11,678.000<br>yam-239-8-6: 11,737.000<br>yam-239-8-5: 12,292.000<br>yam-239-9-11: 12,502.000<br>yam-239-8-2: 12,560.000<br>yam-239-8-4: 12,691.000<br>AJM-239-3-3: 12,750.000<br>yam-239-8-1: 12,799.000<br>AJM-239-3-4: 12,951.000<br>AJM-239-3-5: 13,165.000<br>AJM-239-3-1: 13,246.000<br>AJM-239-3-2: 13,609.000<br></td>\n",
        "  </tr>\n",
        "</table>"
      ]
    },
    {
      "metadata": {
        "id": "tcERtsCbcwUP",
        "colab_type": "text"
      },
      "cell_type": "markdown",
      "source": [
        "## Divide OTU table into different categories and apply same downstream analyses:\n",
        "- Stations\n",
        "- Most abundant vs Least abundant\n"
      ]
    },
    {
      "metadata": {
        "id": "vL-V9U1Mcrvp",
        "colab_type": "text"
      },
      "cell_type": "markdown",
      "source": [
        "###Stations"
      ]
    },
    {
      "metadata": {
        "id": "3Te_hb2IjOOf",
        "colab_type": "text"
      },
      "cell_type": "markdown",
      "source": [
        "## Divide otu table to 'none,mild,moderate,severe' for both_stations, Pembroke, and Maryvale Springs"
      ]
    },
    {
      "metadata": {
        "id": "hzgzF-UTkkF2",
        "colab_type": "text"
      },
      "cell_type": "markdown",
      "source": [
        "<table style=\"border-collapse:collapse;border-spacing:0\"><tr><th style=\"font-family:Arial, sans-serif;font-size:16px;font-weight:normal;padding:10px 5px;border-style:solid;border-width:1px;overflow:hidden;word-break:normal;border-color:black;text-align:center\" colspan=\"8\">Both_stations</th></tr><tr><td style=\"font-family:Arial, sans-serif;font-size:16px;padding:10px 5px;border-style:solid;border-width:1px;overflow:hidden;word-break:normal;border-color:black;text-align:center\" colspan=\"2\">none</td><td style=\"font-family:Arial, sans-serif;font-size:16px;padding:10px 5px;border-style:solid;border-width:1px;overflow:hidden;word-break:normal;border-color:black;text-align:center\" colspan=\"2\">mild</td><td style=\"font-family:Arial, sans-serif;font-size:16px;padding:10px 5px;border-style:solid;border-width:1px;overflow:hidden;word-break:normal;border-color:black;text-align:center\" colspan=\"2\">moderate</td><td style=\"font-family:Arial, sans-serif;font-size:16px;padding:10px 5px;border-style:solid;border-width:1px;overflow:hidden;word-break:normal;border-color:black;text-align:center\" colspan=\"2\">severe</td></tr><tr><td style=\"font-family:Arial, sans-serif;font-size:16px;padding:10px 5px;border-style:solid;border-width:1px;overflow:hidden;word-break:normal;border-color:black;text-align:center\">M</td><td style=\"font-family:Arial, sans-serif;font-size:16px;padding:10px 5px;border-style:solid;border-width:1px;overflow:hidden;word-break:normal;border-color:black;text-align:center\">L</td><td style=\"font-family:Arial, sans-serif;font-size:16px;padding:10px 5px;border-style:solid;border-width:1px;overflow:hidden;word-break:normal;border-color:black;text-align:center\">M</td><td style=\"font-family:Arial, sans-serif;font-size:16px;padding:10px 5px;border-style:solid;border-width:1px;overflow:hidden;word-break:normal;border-color:black;text-align:center\">L</td><td style=\"font-family:Arial, sans-serif;font-size:16px;padding:10px 5px;border-style:solid;border-width:1px;overflow:hidden;word-break:normal;border-color:black;text-align:center\">M</td><td style=\"font-family:Arial, sans-serif;font-size:16px;padding:10px 5px;border-style:solid;border-width:1px;overflow:hidden;word-break:normal;border-color:black;text-align:center\">L</td><td style=\"font-family:Arial, sans-serif;font-size:16px;padding:10px 5px;border-style:solid;border-width:1px;overflow:hidden;word-break:normal;border-color:black;text-align:center\">M</td><td style=\"font-family:Arial, sans-serif;font-size:16px;padding:10px 5px;border-style:solid;border-width:1px;overflow:hidden;word-break:normal;border-color:black;text-align:center\">L</td></tr></table>\n",
        "<br>"
      ]
    },
    {
      "metadata": {
        "id": "7jQbtWrAlBV9",
        "colab_type": "text"
      },
      "cell_type": "markdown",
      "source": [
        "<table style=\"border-collapse:collapse;border-spacing:0\"><tr><th style=\"font-family:Arial, sans-serif;font-size:16px;font-weight:normal;padding:10px 5px;border-style:solid;border-width:1px;overflow:hidden;word-break:normal;border-color:black;text-align:center\" colspan=\"8\">Pembroke</th></tr><tr><td style=\"font-family:Arial, sans-serif;font-size:16px;padding:10px 5px;border-style:solid;border-width:1px;overflow:hidden;word-break:normal;border-color:black;text-align:center\" colspan=\"2\">none</td><td style=\"font-family:Arial, sans-serif;font-size:16px;padding:10px 5px;border-style:solid;border-width:1px;overflow:hidden;word-break:normal;border-color:black;text-align:center\" colspan=\"2\">mild</td><td style=\"font-family:Arial, sans-serif;font-size:16px;padding:10px 5px;border-style:solid;border-width:1px;overflow:hidden;word-break:normal;border-color:black;text-align:center\" colspan=\"2\">moderate</td><td style=\"font-family:Arial, sans-serif;font-size:16px;padding:10px 5px;border-style:solid;border-width:1px;overflow:hidden;word-break:normal;border-color:black;text-align:center\" colspan=\"2\">severe</td></tr><tr><td style=\"font-family:Arial, sans-serif;font-size:16px;padding:10px 5px;border-style:solid;border-width:1px;overflow:hidden;word-break:normal;border-color:black;text-align:center\">M</td><td style=\"font-family:Arial, sans-serif;font-size:16px;padding:10px 5px;border-style:solid;border-width:1px;overflow:hidden;word-break:normal;border-color:black;text-align:center\">L</td><td style=\"font-family:Arial, sans-serif;font-size:16px;padding:10px 5px;border-style:solid;border-width:1px;overflow:hidden;word-break:normal;border-color:black;text-align:center\">M</td><td style=\"font-family:Arial, sans-serif;font-size:16px;padding:10px 5px;border-style:solid;border-width:1px;overflow:hidden;word-break:normal;border-color:black;text-align:center\">L</td><td style=\"font-family:Arial, sans-serif;font-size:16px;padding:10px 5px;border-style:solid;border-width:1px;overflow:hidden;word-break:normal;border-color:black;text-align:center\">M</td><td style=\"font-family:Arial, sans-serif;font-size:16px;padding:10px 5px;border-style:solid;border-width:1px;overflow:hidden;word-break:normal;border-color:black;text-align:center\">L</td><td style=\"font-family:Arial, sans-serif;font-size:16px;padding:10px 5px;border-style:solid;border-width:1px;overflow:hidden;word-break:normal;border-color:black;text-align:center\">M</td><td style=\"font-family:Arial, sans-serif;font-size:16px;padding:10px 5px;border-style:solid;border-width:1px;overflow:hidden;word-break:normal;border-color:black;text-align:center\">L</td></tr></table>\n",
        "<br>"
      ]
    },
    {
      "metadata": {
        "id": "0rViHHqvlGmF",
        "colab_type": "text"
      },
      "cell_type": "markdown",
      "source": [
        "<table style=\"border-collapse:collapse;border-spacing:0\"><tr><th style=\"font-family:Arial, sans-serif;font-size:16px;font-weight:normal;padding:10px 5px;border-style:solid;border-width:1px;overflow:hidden;word-break:normal;border-color:black;text-align:center\" colspan=\"8\">Maryvale Springs</th></tr><tr><td style=\"font-family:Arial, sans-serif;font-size:16px;padding:10px 5px;border-style:solid;border-width:1px;overflow:hidden;word-break:normal;border-color:black;text-align:center\" colspan=\"2\">none</td><td style=\"font-family:Arial, sans-serif;font-size:16px;padding:10px 5px;border-style:solid;border-width:1px;overflow:hidden;word-break:normal;border-color:black;text-align:center\" colspan=\"2\">mild</td><td style=\"font-family:Arial, sans-serif;font-size:16px;padding:10px 5px;border-style:solid;border-width:1px;overflow:hidden;word-break:normal;border-color:black;text-align:center\" colspan=\"2\">moderate</td><td style=\"font-family:Arial, sans-serif;font-size:16px;padding:10px 5px;border-style:solid;border-width:1px;overflow:hidden;word-break:normal;border-color:black;text-align:center\" colspan=\"2\">severe</td></tr><tr><td style=\"font-family:Arial, sans-serif;font-size:16px;padding:10px 5px;border-style:solid;border-width:1px;overflow:hidden;word-break:normal;border-color:black;text-align:center\">M</td><td style=\"font-family:Arial, sans-serif;font-size:16px;padding:10px 5px;border-style:solid;border-width:1px;overflow:hidden;word-break:normal;border-color:black;text-align:center\">L</td><td style=\"font-family:Arial, sans-serif;font-size:16px;padding:10px 5px;border-style:solid;border-width:1px;overflow:hidden;word-break:normal;border-color:black;text-align:center\">M</td><td style=\"font-family:Arial, sans-serif;font-size:16px;padding:10px 5px;border-style:solid;border-width:1px;overflow:hidden;word-break:normal;border-color:black;text-align:center\">L</td><td style=\"font-family:Arial, sans-serif;font-size:16px;padding:10px 5px;border-style:solid;border-width:1px;overflow:hidden;word-break:normal;border-color:black;text-align:center\">M</td><td style=\"font-family:Arial, sans-serif;font-size:16px;padding:10px 5px;border-style:solid;border-width:1px;overflow:hidden;word-break:normal;border-color:black;text-align:center\">L</td><td style=\"font-family:Arial, sans-serif;font-size:16px;padding:10px 5px;border-style:solid;border-width:1px;overflow:hidden;word-break:normal;border-color:black;text-align:center\">M</td><td style=\"font-family:Arial, sans-serif;font-size:16px;padding:10px 5px;border-style:solid;border-width:1px;overflow:hidden;word-break:normal;border-color:black;text-align:center\">L</td></tr></table>\n",
        "<br>"
      ]
    },
    {
      "metadata": {
        "id": "mz_sjQk6IcCb",
        "colab_type": "text"
      },
      "cell_type": "markdown",
      "source": [
        "## Both stations"
      ]
    },
    {
      "metadata": {
        "id": "HoREJ1liJplF",
        "colab_type": "text"
      },
      "cell_type": "markdown",
      "source": [
        "###None"
      ]
    },
    {
      "metadata": {
        "id": "yVU3kWinJrGc",
        "colab_type": "text"
      },
      "cell_type": "markdown",
      "source": [
        "####From rarefied final otu table, filtered out 'Clinical_signs: none'\n",
        "\n"
      ]
    },
    {
      "metadata": {
        "id": "w8fok9f0ikm5",
        "colab_type": "text"
      },
      "cell_type": "markdown",
      "source": [
        "```\n",
        "filter_samples_from_otu_table.py -i otu_table_even53385.biom -o otu_table_even53385_bothstations_none.biom -m /30days/s4468358/projects/pimelea/data/exp/mappingfiles/Mapping_file_Pimelea_all_samples_corrected.txt -s 'Clinical_signs:none'\n",
        "```"
      ]
    },
    {
      "metadata": {
        "id": "lJ4XsTwOd6cQ",
        "colab_type": "text"
      },
      "cell_type": "markdown",
      "source": [
        "####For the 'Clinical_signs= none' otus, \n",
        "\n"
      ]
    },
    {
      "metadata": {
        "id": "WGv2bGN5lYbw",
        "colab_type": "text"
      },
      "cell_type": "markdown",
      "source": [
        "- filtered it to most abundant and least abundant\n",
        "  - most abundant (min_count=11) \n",
        "  - least abundant (max_count=10)"
      ]
    },
    {
      "metadata": {
        "id": "H_cOVEj9lGwY",
        "colab_type": "text"
      },
      "cell_type": "markdown",
      "source": [
        "```\n",
        "filter_otus_from_otu_table.py -i otu_table_even53385_bothstations_none.biom -o otu_table_even53385_bothstations_none_min_count11.biom -n 11\n",
        "\n",
        "filter_otus_from_otu_table.py -i otu_table_even53385_bothstations_none.biom -o otu_table_even53385_bothstations_none_max_count10.biom -x 10\n",
        "\n",
        "```"
      ]
    },
    {
      "metadata": {
        "id": "21NW_jOZlJyA",
        "colab_type": "text"
      },
      "cell_type": "markdown",
      "source": [
        "  - then looked at the summary of the generated data"
      ]
    },
    {
      "metadata": {
        "id": "VC99T14Tjire",
        "colab_type": "text"
      },
      "cell_type": "markdown",
      "source": [
        "> \n",
        "```\n",
        "biom summarize-table -i otu_table_even53385_bothstations_none_min_count11.biom -o otu_table_even53385_bothstations_none_min_count11_stats.txt\n",
        "```\n",
        "\n",
        "\n",
        "\n"
      ]
    },
    {
      "metadata": {
        "id": "m_Go036ZkHrp",
        "colab_type": "text"
      },
      "cell_type": "markdown",
      "source": [
        "```\n",
        "biom summarize-table -i otu_table_even53385_bothstations_none_min_count11.biom -o otu_table_even53385_bothstations_none_min_count11_stats.txt\n",
        "\n",
        "biom summarize-table -i otu_table_even53385_bothstations_none_min_count11.biom -o otu_table_even53385_bothstations_none_min_count11_stats_qual.txt --qualitative\n",
        "\n",
        "biom summarize-table -i otu_table_even53385_bothstations_none_min_count11.biom -o otu_table_even53385_bothstations_none_min_count11_stats_observations.txt --observations\n",
        "```"
      ]
    },
    {
      "metadata": {
        "id": "Xb6tmDgFmmnc",
        "colab_type": "text"
      },
      "cell_type": "markdown",
      "source": [
        "#### Counts of observations table"
      ]
    },
    {
      "metadata": {
        "id": "vOsju3HBmSeV",
        "colab_type": "text"
      },
      "cell_type": "markdown",
      "source": [
        "<div class=\"tg-wrap\"><table><tr><th colspan=\"3\">Counts of observations</th></tr><tr><td>none_Rarefied table  </td><td>none_Most_abundant(min_count=11)</td><td>none_Least_abundant(max_count=10) </td></tr><tr><td>Num samples: 10<br>Num observations: 70,636<br>Total count: 533,850<br>Table density (fraction of non-zero values): 0.173<br><br><br>Counts/sample summary:<br> Min: 53,385.000<br> Max: 53,385.000<br> Median: 53,385.000<br> Mean: 53,385.000<br> Std. dev.: 0.000<br> Sample Metadata Categories: None provided<br> Observation Metadata Categories: taxonomy<br><br><br>Counts/sample detail:<br>yam-239-9-7: 53,385.000<br>yam-239-9-8: 53,385.000<br>AJM-239-3-3: 53,385.000<br>yam-239-9-12: 53,385.000<br>yam-239-9-11: 53,385.000<br>yam-239-8-1: 53,385.000<br>yam-239-8-2: 53,385.000<br>yam-239-8-4: 53,385.000<br>AJM-239-3-5: 53,385.000<br>AJM-239-3-4: 53,385.000<br><br></td><td>Num samples: 10<br>Num observations: 4,631<br>Total count: 419,200<br>Table density (fraction of non-zero values): 0.712<br><br><br>Counts/sample summary:<br> Min: 40,975.000<br> Max: 44,347.000<br> Median: 41,708.500<br> Mean: 41,920.000<br> Std. dev.: 900.940<br> Sample Metadata Categories: None provided<br> Observation Metadata Categories: taxonomy<br><br><br>Counts/sample detail:<br>AJM-239-3-4: 40,975.000<br>AJM-239-3-5: 41,137.000<br>AJM-239-3-3: 41,411.000<br>yam-239-8-2: 41,525.000<br>yam-239-9-11: 41,537.000<br>yam-239-8-4: 41,880.000<br>yam-239-9-7: 42,061.000<br>yam-239-8-1: 42,067.000<br>yam-239-9-12: 42,260.000<br>yam-239-9-8: 44,347.000<br><br></td><td>Num samples: 10<br>Num observations: 66,005<br>Total count: 114,650<br>Table density (fraction of non-zero values): 0.135<br><br><br>Counts/sample summary:<br> Min: 9,038.000<br> Max: 12,410.000<br> Median: 11,676.500<br> Mean: 11,465.000<br> Std. dev.: 900.940<br> Sample Metadata Categories: None provided<br> Observation Metadata Categories: taxonomy<br><br><br>Counts/sample detail:<br>yam-239-9-8: 9,038.000<br>yam-239-9-12: 11,125.000<br>yam-239-8-1: 11,318.000<br>yam-239-9-7: 11,324.000<br>yam-239-8-4: 11,505.000<br>yam-239-9-11: 11,848.000<br>yam-239-8-2: 11,860.000<br>AJM-239-3-3: 11,974.000<br>AJM-239-3-5: 12,248.000<br>AJM-239-3-4: 12,410.000<br><br><br></td></tr></table></div>"
      ]
    },
    {
      "metadata": {
        "id": "W3UvpOvYmqMF",
        "colab_type": "text"
      },
      "cell_type": "markdown",
      "source": [
        "#### Number of unique observation ids per sample (--qualitative)"
      ]
    },
    {
      "metadata": {
        "id": "xQ5iHmk2vm4c",
        "colab_type": "text"
      },
      "cell_type": "markdown",
      "source": [
        "<div class=\"tg-wrap\"><table><tr><th colspan=\"3\">Number of Unique Observation Ids per sample (--qualitative)</th></tr><tr><td>none_Rarefied table  </td><td>none_Most_abundant(min_count=11)</td><td>none_Least_abundant(max_count=10) </td></tr><tr><td>Num samples: 10<br>Num observations: 70,636<br><br><br>Observations/sample summary:<br> Min: 9,618.000<br> Max: 13,165.000<br> Median: 12,625.500<br> Mean: 12,232.700<br> Std. dev.: 994.560<br> Sample Metadata Categories: None provided<br> Observation Metadata Categories: taxonomy<br><br><br>Observations/sample detail:<br>yam-239-9-8: 9,618.000<br>yam-239-9-12: 11,613.000<br>yam-239-9-7: 11,678.000<br>yam-239-9-11: 12,502.000<br>yam-239-8-2: 12,560.000<br>yam-239-8-4: 12,691.000<br>AJM-239-3-3: 12,750.000<br>yam-239-8-1: 12,799.000<br>AJM-239-3-4: 12,951.000<br>AJM-239-3-5: 13,165.000</td><td>Num samples: 10<br>Num observations: 4,631<br><br><br>Observations/sample summary:<br> Min: 2,833.000<br> Max: 3,520.000<br> Median: 3,374.500<br> Mean: 3,295.400<br> Std. dev.: 214.305<br> Sample Metadata Categories: None provided<br> Observation Metadata Categories: taxonomy<br><br><br>Observations/sample detail:<br>yam-239-9-8: 2,833.000<br>yam-239-9-7: 3,090.000<br>yam-239-9-12: 3,117.000<br>yam-239-9-11: 3,232.000<br>yam-239-8-2: 3,298.000<br>AJM-239-3-5: 3,451.000<br>AJM-239-3-4: 3,461.000<br>yam-239-8-4: 3,469.000<br>AJM-239-3-3: 3,483.000<br>yam-239-8-1: 3,520.000<br><br></td><td>Num samples: 10<br>Num observations: 66,005<br><br><br>Observations/sample summary:<br> Min: 6,785.000<br> Max: 9,714.000<br> Median: 9,264.500<br> Mean: 8,937.300<br> Std. dev.: 798.782<br> Sample Metadata Categories: None provided<br> Observation Metadata Categories: taxonomy<br><br><br>Observations/sample detail:<br>yam-239-9-8: 6,785.000<br>yam-239-9-12: 8,496.000<br>yam-239-9-7: 8,588.000<br>yam-239-8-4: 9,222.000<br>yam-239-8-2: 9,262.000<br>AJM-239-3-3: 9,267.000<br>yam-239-9-11: 9,270.000<br>yam-239-8-1: 9,279.000<br>AJM-239-3-4: 9,490.000<br>AJM-239-3-5: 9,714.000<br><br></td></tr></table></div>"
      ]
    },
    {
      "metadata": {
        "id": "2aT1sASbJsKT",
        "colab_type": "text"
      },
      "cell_type": "markdown",
      "source": [
        "###Mild"
      ]
    },
    {
      "metadata": {
        "id": "FRKEpkfoJsfk",
        "colab_type": "text"
      },
      "cell_type": "markdown",
      "source": [
        "```\n",
        "filter_samples_from_otu_table.py -i otu_table_even53385.biom -o otu_table_even53385_bothstations_mild.biom -m /30days/s4468358/projects/pimelea/data/exp/mappingfiles/ASQ_mapping_file.txt -s 'Clinical_signs:mild'\n",
        "```"
      ]
    },
    {
      "metadata": {
        "id": "e7ecUYXt3cUp",
        "colab_type": "text"
      },
      "cell_type": "markdown",
      "source": [
        "<div class=\"tg-wrap\"><table><tr><th colspan=\"3\">Counts of Observations</th></tr><tr><td>mild_Rarefied table  </td><td>mild_Most_abundant(min_count=11)</td><td>mild_Least_abundant(max_count=10) </td></tr><tr><td>Num samples: 3<br>Num observations: 70,636<br>Total count: 160,155<br>Table density (fraction of non-zero values): 0.159<br><br><br>Counts/sample summary:<br> Min: 53,385.000<br> Max: 53,385.000<br> Median: 53,385.000<br> Mean: 53,385.000<br> Std. dev.: 0.000<br> Sample Metadata Categories: None provided<br> Observation Metadata Categories: taxonomy<br><br><br>Counts/sample detail:<br>yam-239-8-5: 53,385.000<br>yam-239-9-9: 53,385.000<br>yam-239-9-10: 53,385.000<br><br><br></td><td>Num samples: 3<br>Num observations: 1,818<br>Total count: 115,298<br>Table density (fraction of non-zero values): 0.836<br><br><br>Counts/sample summary:<br> Min: 37,403.000<br> Max: 39,565.000<br> Median: 38,330.000<br> Mean: 38,432.667<br> Std. dev.: 885.613<br> Sample Metadata Categories: None provided<br> Observation Metadata Categories: taxonomy<br><br><br>Counts/sample detail:<br>yam-239-8-5: 37,403.000<br>yam-239-9-9: 38,330.000<br>yam-239-9-10: 39,565.000<br><br><br></td><td>Num samples: 3<br>Num observations: 68,818<br>Total count: 44,857<br>Table density (fraction of non-zero values): 0.141<br><br><br>Counts/sample summary:<br> Min: 13,820.000<br> Max: 15,982.000<br> Median: 15,055.000<br> Mean: 14,952.333<br> Std. dev.: 885.613<br> Sample Metadata Categories: None provided<br> Observation Metadata Categories: taxonomy<br><br><br>Counts/sample detail:<br>yam-239-9-10: 13,820.000<br>yam-239-9-9: 15,055.000<br>yam-239-8-5: 15,982.000<br><br><br></td></tr></table></div>"
      ]
    },
    {
      "metadata": {
        "id": "vGii-3il4SZK",
        "colab_type": "text"
      },
      "cell_type": "markdown",
      "source": [
        "<div class=\"tg-wrap\"><table><tr><th colspan=\"3\">Number of Unique Observations per sample (--qualitative)</th></tr><tr><td>mild_Rarefied table  </td><td>mild_Most_abundant(min_count=11)</td><td>mild_Least_abundant(max_count=10) </td></tr><tr><td>Num samples: 3<br>Num observations: 70,636<br><br><br>Observations/sample summary:<br> Min: 10,218.000<br> Max: 12,292.000<br> Median: 11,208.000<br> Mean: 11,239.333<br> Std. dev.: 846.997<br> Sample Metadata Categories: None provided<br> Observation Metadata Categories: taxonomy<br><br><br>Observations/sample detail:<br>yam-239-9-10: 10,218.000<br>yam-239-9-9: 11,208.000<br>yam-239-8-5: 12,292.000<br><br><br></td><td>Num samples: 3<br>Num observations: 1,818<br><br><br>Observations/sample summary:<br> Min: 1,466.000<br> Max: 1,576.000<br> Median: 1,520.000<br> Mean: 1,520.667<br> Std. dev.: 44.910<br> Sample Metadata Categories: None provided<br> Observation Metadata Categories: taxonomy<br><br><br>Observations/sample detail:<br>yam-239-9-10: 1,466.000<br>yam-239-9-9: 1,520.000<br>yam-239-8-5: 1,576.000<br><br><br></td><td>Num samples: 3<br>Num observations: 68,818<br><br><br>Observations/sample summary:<br> Min: 8,752.000<br> Max: 10,716.000<br> Median: 9,688.000<br> Mean: 9,718.667<br> Std. dev.: 802.093<br> Sample Metadata Categories: None provided<br> Observation Metadata Categories: taxonomy<br><br><br>Observations/sample detail:<br>yam-239-9-10: 8,752.000<br>yam-239-9-9: 9,688.000<br>yam-239-8-5: 10,716.000<br><br><br></td></tr></table></div>"
      ]
    },
    {
      "metadata": {
        "id": "Y0tmflryJs0r",
        "colab_type": "text"
      },
      "cell_type": "markdown",
      "source": [
        "###Moderate"
      ]
    },
    {
      "metadata": {
        "id": "02fCOrlSJtF0",
        "colab_type": "text"
      },
      "cell_type": "markdown",
      "source": [
        "```\n",
        "filter_samples_from_otu_table.py -i otu_table_even53385.biom -o otu_table_even53385_bothstations_moderate.biom -m /30days/s4468358/projects/pimelea/data/exp/mappingfiles/ASQ_mapping_file.txt -s 'Clinical_signs:moderate'\n",
        "```"
      ]
    },
    {
      "metadata": {
        "id": "XglAsxb74-ch",
        "colab_type": "text"
      },
      "cell_type": "markdown",
      "source": [
        "<div class=\"tg-wrap\"><table><tr><th colspan=\"3\">Counts of Observations</th></tr><tr><td>moderate_Rarefied table  </td><td>moderate_Most_abundant(min_count=11)</td><td>moderate_Least_abundant(max_count=10)</td></tr><tr><td>Num samples: 3<br>Num observations: 70,636<br>Total count: 160,155<br>Table density (fraction of non-zero values): 0.178<br><br><br>Counts/sample summary:<br> Min: 53,385.000<br> Max: 53,385.000<br> Median: 53,385.000<br> Mean: 53,385.000<br> Std. dev.: 0.000<br> Sample Metadata Categories: None provided<br> Observation Metadata Categories: taxonomy<br><br><br>Counts/sample detail:<br>AJM-239-3-2: 53,385.000<br>AJM-239-3-1: 53,385.000<br>yam-239-8-3: 53,385.000<br><br><br><br><br></td><td>Num samples: 3<br>Num observations: 1,971<br>Total count: 110,924<br>Table density (fraction of non-zero values): 0.906<br><br><br>Counts/sample summary:<br> Min: 36,094.000<br> Max: 38,446.000<br> Median: 36,384.000<br> Mean: 36,974.667<br> Std. dev.: 1,047.104<br> Sample Metadata Categories: None provided<br> Observation Metadata Categories: taxonomy<br><br><br>Counts/sample detail:<br>AJM-239-3-2: 36,094.000<br>AJM-239-3-1: 36,384.000<br>yam-239-8-3: 38,446.000<br><br><br><br><br></td><td>Num samples: 3<br>Num observations: 68,665<br>Total count: 49,231<br>Table density (fraction of non-zero values): 0.157<br><br><br>Counts/sample summary:<br> Min: 14,939.000<br> Max: 17,291.000<br> Median: 17,001.000<br> Mean: 16,410.333<br> Std. dev.: 1,047.104<br> Sample Metadata Categories: None provided<br> Observation Metadata Categories: taxonomy<br><br><br>Counts/sample detail:<br>yam-239-8-3: 14,939.000<br>AJM-239-3-1: 17,001.000<br>AJM-239-3-2: 17,291.000<br><br><br><br><br></td></tr></table></div>"
      ]
    },
    {
      "metadata": {
        "id": "aExEJ3QW5t9p",
        "colab_type": "text"
      },
      "cell_type": "markdown",
      "source": [
        "<div class=\"tg-wrap\"><table><tr><th colspan=\"3\">Number of Unique Observations per sample (--qualitative)</th></tr><tr><td>moderate_Rarefied table  </td><td>moderate_Most_abundant(min_count=11)</td><td>moderate_Least_abundant(max_count=10)</td></tr><tr><td>Num samples: 3<br>Num observations: 70,636<br><br><br>Observations/sample summary:<br> Min: 10,896.000<br> Max: 13,609.000<br> Median: 13,246.000<br> Mean: 12,583.667<br> Std. dev.: 1,202.527<br> Sample Metadata Categories: None provided<br> Observation Metadata Categories: taxonomy<br><br><br>Observations/sample detail:<br>yam-239-8-3: 10,896.000<br>AJM-239-3-1: 13,246.000<br>AJM-239-3-2: 13,609.000<br><br><br></td><td>Num samples: 3<br>Num observations: 1,971<br><br><br>Observations/sample summary:<br> Min: 1,647.000<br> Max: 1,863.000<br> Median: 1,847.000<br> Mean: 1,785.667<br> Std. dev.: 98.269<br> Sample Metadata Categories: None provided<br> Observation Metadata Categories: taxonomy<br><br><br>Observations/sample detail:<br>yam-239-8-3: 1,647.000<br>AJM-239-3-1: 1,847.000<br>AJM-239-3-2: 1,863.000<br><br><br></td><td>Num samples: 3<br>Num observations: 68,665<br><br><br>Observations/sample summary:<br> Min: 9,249.000<br> Max: 11,746.000<br> Median: 11,399.000<br> Mean: 10,798.000<br> Std. dev.: 1,104.431<br> Sample Metadata Categories: None provided<br> Observation Metadata Categories: taxonomy<br><br><br>Observations/sample detail:<br>yam-239-8-3: 9,249.000<br>AJM-239-3-1: 11,399.000<br>AJM-239-3-2: 11,746.000<br><br><br></td></tr></table></div>"
      ]
    },
    {
      "metadata": {
        "id": "VLEq_1WCJ6bz",
        "colab_type": "text"
      },
      "cell_type": "markdown",
      "source": [
        "###Severe"
      ]
    },
    {
      "metadata": {
        "id": "Ix665I2YJ8C_",
        "colab_type": "text"
      },
      "cell_type": "markdown",
      "source": [
        "```\n",
        "filter_samples_from_otu_table.py -i otu_table_even53385.biom -o otu_table_even53385_bothstations_severe.biom -m /30days/s4468358/projects/pimelea/data/exp/mappingfiles/ASQ_mapping_file.txt -s 'Clinical_signs:severe'\n",
        "```"
      ]
    },
    {
      "metadata": {
        "id": "3LyyOon466Uh",
        "colab_type": "text"
      },
      "cell_type": "markdown",
      "source": [
        "<div class=\"tg-wrap\"><table><tr><th colspan=\"3\">Counts of Observations</th></tr><tr><td>severe_Rarefied table  </td><td>severe_Most_abundant(min_count=11)</td><td>severe_Least_abundant(max_count=10)</td></tr><tr><td>Num samples: 1<br>Num observations: 70,636<br>Total count: 53,385<br>Table density (fraction of non-zero values): 0.166<br><br><br>Counts/sample summary:<br> Min: 53,385.000<br> Max: 53,385.000<br> Median: 53,385.000<br> Mean: 53,385.000<br> Std. dev.: 0.000<br> Sample Metadata Categories: None provided<br> Observation Metadata Categories: taxonomy<br><br><br>Counts/sample detail:<br>yam-239-8-6: 53,385.000<br><br><br></td><td>Num samples: 1<br>Num observations: 707<br>Total count: 33,600<br>Table density (fraction of non-zero values): 1.000<br><br><br>Counts/sample summary:<br> Min: 33,600.000<br> Max: 33,600.000<br> Median: 33,600.000<br> Mean: 33,600.000<br> Std. dev.: 0.000<br> Sample Metadata Categories: None provided<br> Observation Metadata Categories: taxonomy<br><br><br>Counts/sample detail:<br>yam-239-8-6: 33,600.000<br><br><br></td><td>Num samples: 1<br>Num observations: 69,929<br>Total count: 19,785<br>Table density (fraction of non-zero values): 0.158<br><br><br>Counts/sample summary:<br> Min: 19,785.000<br> Max: 19,785.000<br> Median: 19,785.000<br> Mean: 19,785.000<br> Std. dev.: 0.000<br> Sample Metadata Categories: None provided<br> Observation Metadata Categories: taxonomy<br><br><br>Counts/sample detail:<br>yam-239-8-6: 19,785.000<br><br><br></td></tr></table></div>"
      ]
    },
    {
      "metadata": {
        "id": "6CAUVSHL66xp",
        "colab_type": "text"
      },
      "cell_type": "markdown",
      "source": [
        "<div class=\"tg-wrap\"><table><tr><th colspan=\"3\">Number of Unique Observations per sample (--qualitative)</th></tr><tr><td>severe_Rarefied table  </td><td>severe_Most_abundant(min_count=11)</td><td>severe_Least_abundant(max_count=10)</td></tr><tr><td>Num samples: 1<br>Num observations: 70,636<br><br><br>Observations/sample summary:<br> Min: 11,737.000<br> Max: 11,737.000<br> Median: 11,737.000<br> Mean: 11,737.000<br> Std. dev.: 0.000<br> Sample Metadata Categories: None provided<br> Observation Metadata Categories: taxonomy<br><br><br>Observations/sample detail:<br>yam-239-8-6: 11,737.000<br><br><br></td><td>Num samples: 1<br>Num observations: 707<br><br><br>Observations/sample summary:<br> Min: 707.000<br> Max: 707.000<br> Median: 707.000<br> Mean: 707.000<br> Std. dev.: 0.000<br> Sample Metadata Categories: None provided<br> Observation Metadata Categories: taxonomy<br><br><br>Observations/sample detail:<br>yam-239-8-6: 707.000<br><br><br></td><td>Num samples: 1<br>Num observations: 69,929<br><br><br>Observations/sample summary:<br> Min: 11,030.000<br> Max: 11,030.000<br> Median: 11,030.000<br> Mean: 11,030.000<br> Std. dev.: 0.000<br> Sample Metadata Categories: None provided<br> Observation Metadata Categories: taxonomy<br><br><br>Observations/sample detail:<br>yam-239-8-6: 11,030.000<br><br><br></td></tr></table></div>"
      ]
    },
    {
      "metadata": {
        "id": "aXpa3EmwPULY",
        "colab_type": "code",
        "colab": {
          "base_uri": "https://localhost:8080/",
          "height": 617
        },
        "outputId": "256b67e9-435b-4c5b-bbe0-9f1a99089127"
      },
      "cell_type": "code",
      "source": [
        "#load image into notebook\n",
        "from IPython.display import Image\n",
        "Image(filename='observation_counts(clinical_signs).jpg', width=800, height=600)"
      ],
      "execution_count": 8,
      "outputs": [
        {
          "output_type": "execute_result",
          "data": {
            "image/jpeg": "[encoded data removed]",
            "text/plain": [
              "<IPython.core.display.Image object>"
            ]
          },
          "metadata": {
            "tags": [],
            "image/jpeg": {
              "width": 800,
              "height": 600
            }
          },
          "execution_count": 8
        }
      ]
    },
    {
      "metadata": {
        "id": "CA0lJ3NsPT8K",
        "colab_type": "text"
      },
      "cell_type": "markdown",
      "source": [
        "```\n",
        "What is EdgeR package?\n",
        "what is linear model\n",
        "what is generalized linear model? and why are we using this with our anaylsis?\n",
        "\n",
        "generate plots\n",
        "\n",
        "Train machine learning methods on the classification of the clinical signs?\n",
        "```"
      ]
    },
    {
      "metadata": {
        "id": "iDbsyQmtEVOo",
        "colab_type": "text"
      },
      "cell_type": "markdown",
      "source": [
        "qiime feature-table filter-features \\\n",
        "  --i-table table.qza \\\n",
        "  --p-min-frequency 2 \\\n",
        "  --o-filtered-table feature-frequency-filtered-table.qza"
      ]
    },
    {
      "metadata": {
        "id": "Vw3GZaQAc1BE",
        "colab_type": "text"
      },
      "cell_type": "markdown",
      "source": [
        "# Qiime2"
      ]
    },
    {
      "metadata": {
        "id": "Hh4RLrBXwZye",
        "colab_type": "text"
      },
      "cell_type": "markdown",
      "source": [
        "## Using Pembroke data for qiime2 analysis?"
      ]
    },
    {
      "metadata": {
        "id": "YY6s5y7TwfEn",
        "colab_type": "text"
      },
      "cell_type": "markdown",
      "source": [
        "Because of low depth the Pembroke data cannot be joined after filtering bad quality sequences. <br>\n",
        "If we were to use only the forward reads of Pembroke, we would have to discard all reverse reads of other sequences as well for proper comparison. (qiime2 forum- below quote) <br>\n",
        "We do not want to loose the advantage of paired end reads that we have available for all other data just because of these five Pembroke samples. Therefore, we do not include the five in our qiime 2 analysis. "
      ]
    },
    {
      "metadata": {
        "id": "5u6X1YjawER2",
        "colab_type": "text"
      },
      "cell_type": "markdown",
      "source": [
        "> Continuing the discussion from [Manifest file with paired-end ad single-end sequences](https://forum.qiime2.org/t/manifest-file-with-paired-end-ad-single-end-sequences/4646/2):\n",
        "\n",
        "> **quote=\"Nicholas_Bokulich, post:2, topic:4646\"** <br>\n",
        "No matter whether you are using denoising or OTU picking, to perform a proper comparison you will need to analyze the same amplicon site (primers) and same length, and ideally processed in the same way (read joining of any type would violate this). So I recommend that you **only use the forward reads** from both studies and trim to the same length, i.e., discard the reverse reads from the second study.\n",
        "I hope that helps!\n",
        "\n"
      ]
    }
  ]
}